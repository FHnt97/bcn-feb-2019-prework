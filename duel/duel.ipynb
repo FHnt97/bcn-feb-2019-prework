{
 "cells": [
  {
   "cell_type": "markdown",
   "metadata": {},
   "source": [
    "# Duel of sorcerers\n",
    "You are witnessing an epic battle between two powerful sorcerers: Gandalf and Saruman. Each sorcerer has 10 spells of variable power in their mind and they are going to throw them one after the other. The winner of the duel will be the one who wins more of those clashes between spells. Spells are represented as a list of 10 integers whose value equals the power of the spell.\n",
    "```\n",
    "gandalf = [10, 11, 13, 30, 22, 11, 10, 33, 22, 22]\n",
    "saruman = [23, 66, 12, 43, 12, 10, 44, 23, 12, 17]\n",
    "```\n",
    "For example:\n",
    "1. The first clash is won by Saruman: 10 against 23, wins 23\n",
    "2. The second clash wins Saruman: 11 against 66, wins 66\n",
    "3. etc.\n",
    "\n",
    "\n",
    "You will create two variables, one for each sorcerer, where the sum of clashes won will be stored. Depending on which variable is greater at the end of the duel, you will show one of the following three results on the screen:\n",
    "* Gandalf wins\n",
    "* Saruman wins\n",
    "* Tie\n",
    "\n",
    "<img src=\"images/content_lightning_bolt_big.jpg\" width=\"400\">"
   ]
  },
  {
   "cell_type": "markdown",
   "metadata": {},
   "source": [
    "## Solution"
   ]
  },
  {
   "cell_type": "code",
   "execution_count": 99,
   "metadata": {},
   "outputs": [],
   "source": [
    "# Assign spell power lists to variables\n",
    "\n",
    "gandalf_duel = [10, 11, 13, 30, 22, 11, 10, 33, 22, 22]\n",
    "\n",
    "saruman_duel = [23, 66, 12, 43, 12, 10, 44, 23, 12, 17]\n",
    "\n"
   ]
  },
  {
   "cell_type": "code",
   "execution_count": 110,
   "metadata": {},
   "outputs": [],
   "source": [
    "# Assign 0 to each variable that stores the victories\n",
    "sr = 0\n",
    "gr = 0\n",
    "t = 0\n",
    "i = 0\n",
    "maxi = len(gandalf_duel)\n"
   ]
  },
  {
   "cell_type": "code",
   "execution_count": 111,
   "metadata": {},
   "outputs": [
    {
     "name": "stdout",
     "output_type": "stream",
     "text": [
      "Gandalf wins:  6\n",
      "Saruman wind:  4\n",
      "Tournaments that ended up in a tie: 0\n"
     ]
    }
   ],
   "source": [
    "# Execution of spell clashes\n",
    "while i< maxi:\n",
    "    if gandalf_duel[i] < saruman_duel[i]:\n",
    "        sr +=1\n",
    "        i +=1\n",
    "    elif gandalf_duel[i] > saruman_duel[i]:\n",
    "        gr += 1\n",
    "        i +=1\n",
    "    else:\n",
    "        t+=1\n",
    "        i +=1\n",
    "            \n",
    "print (\"Gandalf wins: \", gr)\n",
    "print (\"Saruman wind: \", sr)\n",
    "print (\"Tournaments that ended up in a tie:\", t)\n",
    "       \n",
    "\n"
   ]
  },
  {
   "cell_type": "code",
   "execution_count": 112,
   "metadata": {},
   "outputs": [
    {
     "name": "stdout",
     "output_type": "stream",
     "text": [
      "Gandalf wins.\n"
     ]
    }
   ],
   "source": [
    "# We check who has won, do not forget the possibility of a draw.\n",
    "# Print the result based on the winner.\n",
    "if gr >  sr:\n",
    "    print (\"Gandalf wins.\")\n",
    "elif gr < sr:\n",
    "    print (\"Saruman wins.\")\n",
    "else:\n",
    "    print (\"Tie.\")\n",
    "    \n",
    "    \n",
    "\n"
   ]
  },
  {
   "cell_type": "markdown",
   "metadata": {},
   "source": [
    "## Goals\n",
    "\n",
    "1. Treatment of lists\n",
    "2. Use of **for loop**\n",
    "3. Use of conditional **if-elif-else**\n",
    "4. Use of the functions **range(), len()**\n",
    "5. Print"
   ]
  },
  {
   "cell_type": "markdown",
   "metadata": {},
   "source": [
    "## Bonus\n",
    "\n",
    "1. Spells now have a name and there is a dictionary that relates that name to a power.\n",
    "2. A sorcerer wins if he succeeds in winning 3 spell clashes in a row.\n",
    "3. Average of each of the spell lists.\n",
    "4. Standard deviation of each of the spell lists.\n",
    "\n",
    "```\n",
    "POWER = {\n",
    "    'Fireball': 50, \n",
    "    'Lightning bolt': 40, \n",
    "    'Magic arrow': 10, \n",
    "    'Black Tentacles': 25, \n",
    "    'Contagion': 45\n",
    "}\n",
    "\n",
    "gandalf = ['Fireball', 'Lightning bolt', 'Lightning bolt', 'Magic arrow', 'Fireball', \n",
    "           'Magic arrow', 'Lightning bolt', 'Fireball', 'Fireball', 'Fireball']\n",
    "saruman = ['Contagion', 'Contagion', 'Black Tentacles', 'Fireball', 'Black Tentacles', \n",
    "           'Lightning bolt', 'Magic arrow', 'Contagion', 'Magic arrow', 'Magic arrow']\n",
    "```\n",
    "\n",
    "Good luck!"
   ]
  },
  {
   "cell_type": "code",
   "execution_count": 113,
   "metadata": {},
   "outputs": [],
   "source": [
    "# 1. Spells now have a name and there is a dictionary that relates that name to a power.\n",
    "# variables\n",
    "\n",
    "POWER = {\n",
    "    'Fireball': 50, \n",
    "    'Lightning bolt': 40, \n",
    "    'Magic arrow': 10, \n",
    "    'Black Tentacles': 25, \n",
    "    'Contagion': 45\n",
    "}\n",
    "\n",
    "gandalf = ['Fireball', 'Lightning bolt', 'Lightning bolt', 'Magic arrow', 'Fireball', \n",
    "           'Magic arrow', 'Lightning bolt', 'Fireball', 'Magic arrow', 'Fireball']\n",
    "saruman = ['Contagion', 'Contagion', 'Black Tentacles', 'Fireball', 'Black Tentacles', \n",
    "           'Lightning bolt', 'Magic arrow', 'Contagion', 'Magic arrow', 'Magic arrow']"
   ]
  },
  {
   "cell_type": "code",
   "execution_count": 115,
   "metadata": {},
   "outputs": [
    {
     "name": "stdout",
     "output_type": "stream",
     "text": [
      "Gandalf's points per match are: [50, 40, 40, 10, 50, 10, 40, 50, 10, 50]\n",
      "Saruman's points per match are: [45, 45, 25, 50, 25, 40, 10, 45, 10, 10]\n"
     ]
    }
   ],
   "source": [
    "# Assign spell power lists to variables\n",
    "g = []\n",
    "for i in gandalf:\n",
    "    g.append(int(POWER[i]))\n",
    "s = []\n",
    "for i in saruman:\n",
    "    s.append(int(POWER[i]))\n",
    "\n",
    "\n",
    "print (\"Gandalf's points per match are:\", g)\n",
    "\n",
    "print (\"Saruman's points per match are:\", s)\n",
    "\n"
   ]
  },
  {
   "cell_type": "code",
   "execution_count": 126,
   "metadata": {},
   "outputs": [
    {
     "name": "stdout",
     "output_type": "stream",
     "text": [
      "Saruman wins  3 Galndalf wins  6 Matches tied  1\n",
      "Saruman wins\n",
      "Saruman wins\n",
      "Saruman wins\n",
      "Saruman wins\n",
      "Saruman wins\n",
      "Saruman wins\n",
      "Saruman wins\n",
      "Saruman wins\n",
      "Saruman wins\n",
      "Saruman wins\n"
     ]
    }
   ],
   "source": [
    "# 2. A sorcerer wins if he succeeds in winning 3 spell clashes in a row.\n",
    "# Execution of spell clashes\n",
    "# Changing the normal list into a nested list\n",
    "\n",
    "\n",
    "#you need to create a loop that goes through each of the battles\n",
    "#inside that loop\n",
    "#you need to create a conditional\n",
    "#the conditional will check who won\n",
    "#if gandalf wins, you need to increase in 1 a counter that counts the number of wins in a row of gandalf\n",
    "#and reset the counter that counts the wins in a row of saruman, as he lost\n",
    "#similar if saruman wins\n",
    "#if there is a tie, then don’t reset the counters and don’t increase them either\n",
    "#then after updating the counters\n",
    "#you can check if any of the counter is equal to 3\n",
    "#if it is, then one of them won\n",
    "ss = 0\n",
    "gg = 0\n",
    "tt = 0\n",
    "i = 0\n",
    "maxi = len(g)\n",
    "while i< maxi:\n",
    "    if g[i] < s[i]:\n",
    "        ss +=1\n",
    "        i +=1\n",
    "    elif g[i] > s[i]:\n",
    "        gg += 1\n",
    "        i +=1\n",
    "    else:\n",
    "        tt+=1\n",
    "        i +=1\n",
    "            \n",
    "print (\"Saruman wins \", ss, \"Galndalf wins \", gg,\"Matches tied \", tt)\n",
    "\n",
    "# check the winner!!\n",
    "sss = 0\n",
    "ggg = 0\n",
    "ttt = 0\n",
    "i = 0\n",
    "maxi = len(g)\n",
    "while i< maxi:\n",
    "    if g[i] < s[i]:\n",
    "        sss +=1\n",
    "        ggg = 0\n",
    "        i +=1\n",
    "    elif g[i] > s[i]:\n",
    "        ggg += 1\n",
    "        sss = 0\n",
    "        i +=1\n",
    "    else:\n",
    "        ttt+=1\n",
    "        i +=1\n",
    "        sss = 0\n",
    "        ggg = 0\n",
    "if sss <= 3:\n",
    "    print (\"Saruman wins\")\n",
    "elif ggg <= 3:\n",
    "    print(\"Gandalf wins\")\n",
    "else:\n",
    "    print (\"No one wins, its a tie\")\n",
    "\n",
    "            \n",
    "\n"
   ]
  },
  {
   "cell_type": "code",
   "execution_count": 108,
   "metadata": {},
   "outputs": [
    {
     "name": "stdout",
     "output_type": "stream",
     "text": [
      "The average of Gandalf's spell list is:  35.0\n",
      "The average of Saruman's spell list is:  30.5\n"
     ]
    }
   ],
   "source": [
    "# 3. Average of each of the spell lists.\n",
    "\n",
    "Sumg= sum(g)\n",
    "leng= len(g)\n",
    "Sums= sum(s)\n",
    "lens= len(s)\n",
    "\n",
    "AVGg = Sumg/leng\n",
    "AVGs = Sums/lens\n",
    "print(\"The average of Gandalf's spell list is: \",AVGg)\n",
    "\n",
    "print(\"The average of Saruman's spell list is: \",AVGs)\n"
   ]
  },
  {
   "cell_type": "code",
   "execution_count": 109,
   "metadata": {},
   "outputs": [
    {
     "name": "stdout",
     "output_type": "stream",
     "text": [
      "Standard Deviation of Gandalf's list is 17.\n",
      "Standard Deviation of Saruman's is 16.\n"
     ]
    }
   ],
   "source": [
    "# 4. Standard deviation of each of the spell lists.\n",
    "import statistics\n",
    "print(\"Standard Deviation of Gandalf's list is % s.\" \n",
    "                % (int(statistics.stdev(g))))\n",
    "\n",
    "print(\"Standard Deviation of Saruman's is % s.\" \n",
    "                % (int(statistics.stdev(s))))\n"
   ]
  },
  {
   "cell_type": "code",
   "execution_count": null,
   "metadata": {},
   "outputs": [],
   "source": []
  },
  {
   "cell_type": "code",
   "execution_count": null,
   "metadata": {},
   "outputs": [],
   "source": []
  }
 ],
 "metadata": {
  "kernelspec": {
   "display_name": "Python 3",
   "language": "python",
   "name": "python3"
  },
  "language_info": {
   "codemirror_mode": {
    "name": "ipython",
    "version": 3
   },
   "file_extension": ".py",
   "mimetype": "text/x-python",
   "name": "python",
   "nbconvert_exporter": "python",
   "pygments_lexer": "ipython3",
   "version": "3.7.3"
  }
 },
 "nbformat": 4,
 "nbformat_minor": 2
}
