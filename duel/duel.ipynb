{
 "cells": [
  {
   "cell_type": "markdown",
   "metadata": {},
   "source": [
    "# Duel of sorcerers\n",
    "You are witnessing an epic battle between two powerful sorcerers: Gandalf and Saruman. Each sorcerer has 10 spells of variable power in their mind and they are going to throw them one after the other. The winner of the duel will be the one who wins more of those clashes between spells. Spells are represented as a list of 10 integers whose value equals the power of the spell.\n",
    "```\n",
    "gandalf = [10, 11, 13, 30, 22, 11, 10, 33, 22, 22]\n",
    "saruman = [23, 66, 12, 43, 12, 10, 44, 23, 12, 17]\n",
    "```\n",
    "For example:\n",
    "1. The first clash is won by Saruman: 10 against 23, wins 23\n",
    "2. The second clash wins Saruman: 11 against 66, wins 66\n",
    "3. etc.\n",
    "\n",
    "\n",
    "You will create two variables, one for each sorcerer, where the sum of clashes won will be stored. Depending on which variable is greater at the end of the duel, you will show one of the following three results on the screen:\n",
    "* Gandalf wins\n",
    "* Saruman wins\n",
    "* Tie\n",
    "\n",
    "<img src=\"images/content_lightning_bolt_big.jpg\" width=\"400\">"
   ]
  },
  {
   "cell_type": "markdown",
   "metadata": {},
   "source": [
    "## Solution"
   ]
  },
  {
   "cell_type": "code",
   "execution_count": 29,
   "metadata": {},
   "outputs": [],
   "source": [
    "# Assign spell power lists to variables\n",
    "\n",
    "gandalf_duel = [10, 11, 13, 30, 22, 11, 10, 33, 22, 22]\n",
    "gandalf = [gandalf_duel]\n",
    "saruman_duel = [23, 66, 12, 43, 12, 10, 44, 23, 12, 17]\n",
    "saruman = [saruman_duel]\n"
   ]
  },
  {
   "cell_type": "code",
   "execution_count": 30,
   "metadata": {},
   "outputs": [],
   "source": [
    "# Assign 0 to each variable that stores the victories\n",
    "result_duel = [0,0,0,0,0,0,0,0,0,0]\n",
    "result = [result_duel]\n",
    "R = []\n",
    "G = []\n",
    "S = []\n",
    "T = []\n"
   ]
  },
  {
   "cell_type": "code",
   "execution_count": 31,
   "metadata": {},
   "outputs": [
    {
     "name": "stdout",
     "output_type": "stream",
     "text": [
      "Gandalf wins:  [1, 10, 1, 10, 10, 5]\n",
      "Saruman wind:  [-13, -55, -13, -34]\n",
      "Tournaments that ended up in a tie: []\n"
     ]
    }
   ],
   "source": [
    "# Execution of spell clashes\n",
    "# Subtracting the tournament scores \n",
    "for g in range(len(gandalf)):\n",
    "    for s in range(len(gandalf[0])):\n",
    "        result [g][s]= gandalf[g][s] - saruman [g][s]\n",
    "\n",
    "\n",
    "#changing results to normal list \n",
    "for row in result:\n",
    "    for col in row:\n",
    "        R.append (col)\n",
    "\n",
    "\n",
    "# Defining who wins the battles\n",
    "for i in R:\n",
    "    if i > 0:\n",
    "        G.append(i)\n",
    "    elif i < 0:\n",
    "        S.append(i)\n",
    "    else:\n",
    "        T.append (i)\n",
    "        \n",
    "print (\"Gandalf wins: \", G)\n",
    "print (\"Saruman wind: \", S)\n",
    "print (\"Tournaments that ended up in a tie:\", T)\n",
    "       \n",
    "\n"
   ]
  },
  {
   "cell_type": "code",
   "execution_count": 32,
   "metadata": {},
   "outputs": [
    {
     "name": "stdout",
     "output_type": "stream",
     "text": [
      "Gandalf wins.\n"
     ]
    }
   ],
   "source": [
    "# We check who has won, do not forget the possibility of a draw.\n",
    "# Print the result based on the winner.\n",
    "if len(G) > len(S):\n",
    "    print (\"Gandalf wins.\")\n",
    "elif len(G) == len(S):\n",
    "    print (\"Tie.\")\n",
    "else:\n",
    "    print (\"Saruman wins.\")\n",
    "    \n",
    "    \n",
    "\n"
   ]
  },
  {
   "cell_type": "markdown",
   "metadata": {},
   "source": [
    "## Goals\n",
    "\n",
    "1. Treatment of lists\n",
    "2. Use of **for loop**\n",
    "3. Use of conditional **if-elif-else**\n",
    "4. Use of the functions **range(), len()**\n",
    "5. Print"
   ]
  },
  {
   "cell_type": "markdown",
   "metadata": {},
   "source": [
    "## Bonus\n",
    "\n",
    "1. Spells now have a name and there is a dictionary that relates that name to a power.\n",
    "2. A sorcerer wins if he succeeds in winning 3 spell clashes in a row.\n",
    "3. Average of each of the spell lists.\n",
    "4. Standard deviation of each of the spell lists.\n",
    "\n",
    "```\n",
    "POWER = {\n",
    "    'Fireball': 50, \n",
    "    'Lightning bolt': 40, \n",
    "    'Magic arrow': 10, \n",
    "    'Black Tentacles': 25, \n",
    "    'Contagion': 45\n",
    "}\n",
    "\n",
    "gandalf = ['Fireball', 'Lightning bolt', 'Lightning bolt', 'Magic arrow', 'Fireball', \n",
    "           'Magic arrow', 'Lightning bolt', 'Fireball', 'Fireball', 'Fireball']\n",
    "saruman = ['Contagion', 'Contagion', 'Black Tentacles', 'Fireball', 'Black Tentacles', \n",
    "           'Lightning bolt', 'Magic arrow', 'Contagion', 'Magic arrow', 'Magic arrow']\n",
    "```\n",
    "\n",
    "Good luck!"
   ]
  },
  {
   "cell_type": "code",
   "execution_count": 33,
   "metadata": {},
   "outputs": [],
   "source": [
    "# 1. Spells now have a name and there is a dictionary that relates that name to a power.\n",
    "# variables\n",
    "\n",
    "POWER = {\n",
    "    'Fireball': 50, \n",
    "    'Lightning bolt': 40, \n",
    "    'Magic arrow': 10, \n",
    "    'Black Tentacles': 25, \n",
    "    'Contagion': 45\n",
    "}\n",
    "\n",
    "gandalf = ['Fireball', 'Lightning bolt', 'Lightning bolt', 'Magic arrow', 'Fireball', \n",
    "           'Magic arrow', 'Lightning bolt', 'Fireball', 'Magic arrow', 'Fireball']\n",
    "saruman = ['Contagion', 'Contagion', 'Black Tentacles', 'Fireball', 'Black Tentacles', \n",
    "           'Lightning bolt', 'Magic arrow', 'Contagion', 'Magic arrow', 'Magic arrow']"
   ]
  },
  {
   "cell_type": "code",
   "execution_count": 28,
   "metadata": {},
   "outputs": [
    {
     "name": "stdout",
     "output_type": "stream",
     "text": [
      "Gandalf's points per match are: [50, 40, 40, 10, 50, 10, 40, 50, 10, 50]\n",
      "Saruman's points per match are: [45, 45, 25, 50, 25, 40, 10, 45, 10, 10]\n"
     ]
    }
   ],
   "source": [
    "# Assign spell power lists to variables\n",
    "g = []\n",
    "for i in gandalf:\n",
    "    g.append(POWER[i])\n",
    "s = []\n",
    "for i in saruman:\n",
    "    s.append(POWER[i])\n",
    "\n",
    "\n",
    "print (\"Gandalf's points per match are:\", g)\n",
    "\n",
    "print (\"Saruman's points per match are:\", s)\n",
    "\n"
   ]
  },
  {
   "cell_type": "code",
   "execution_count": 226,
   "metadata": {},
   "outputs": [
    {
     "name": "stdout",
     "output_type": "stream",
     "text": [
      "The results of the duels are: [5, -5, 15, -40, 25, -30, 30, 5, 0, 40]\n",
      "['Win', 'Loss', 'Win', 'Loss', 'Win', 'Loss', 'Win', 'Win', 'Tie', 'Win']\n"
     ]
    }
   ],
   "source": [
    "# 2. A sorcerer wins if he succeeds in winning 3 spell clashes in a row.\n",
    "# Execution of spell clashes\n",
    "# Changing the normal list into a nested list\n",
    "sm = [s] \n",
    "gm = [g]\n",
    "\n",
    "results = [[0,0,0,0,0,0,0,0,0,0]]\n",
    "RN = []        \n",
    "        \n",
    "for i in range(len(gm)):\n",
    "    for j in range(len(gm[0])):\n",
    "        results [i][j]= gm[i][j] - sm [i][j]\n",
    "\n",
    "for row in results:\n",
    "    for col in row:\n",
    "        RN.append (col)\n",
    "print(\"The results of the duels are:\", RN)\n",
    "\n",
    "\n",
    "# check for 3 wins in a row\n",
    "# Positive =  Gandalf wins\n",
    "# negative = Saluman wins\n",
    "\n",
    "winning_list = []\n",
    "for x in RN:\n",
    "    if x > 0:\n",
    "        winning_list.append(\"Win\")\n",
    "    elif x == 0:\n",
    "        winning_list.append(\"Tie\")\n",
    "    else:\n",
    "        winning_list.append(\"Loss\")\n",
    "print(winning_list)\n",
    "\n",
    "# check the winner!!\n"
   ]
  },
  {
   "cell_type": "code",
   "execution_count": 227,
   "metadata": {},
   "outputs": [
    {
     "name": "stdout",
     "output_type": "stream",
     "text": [
      "The average of Gandalf's spell list is:  35.0\n",
      "The average of Saruman's spell list is:  30.5\n"
     ]
    }
   ],
   "source": [
    "# 3. Average of each of the spell lists.\n",
    "\n",
    "Sumg= sum(g)\n",
    "leng= len(g)\n",
    "Sums= sum(s)\n",
    "lens= len(s)\n",
    "\n",
    "AVGg = Sumg/leng\n",
    "AVGs = Sums/lens\n",
    "print(\"The average of Gandalf's spell list is: \",AVGg)\n",
    "\n",
    "print(\"The average of Saruman's spell list is: \",AVGs)\n"
   ]
  },
  {
   "cell_type": "code",
   "execution_count": 228,
   "metadata": {},
   "outputs": [
    {
     "name": "stdout",
     "output_type": "stream",
     "text": [
      "Standard Deviation of Gandalf's list is 17.\n",
      "Standard Deviation of Saruman's is 16.\n"
     ]
    }
   ],
   "source": [
    "# 4. Standard deviation of each of the spell lists.\n",
    "import statistics\n",
    "print(\"Standard Deviation of Gandalf's list is % s.\" \n",
    "                % (int(statistics.stdev(g))))\n",
    "\n",
    "print(\"Standard Deviation of Saruman's is % s.\" \n",
    "                % (int(statistics.stdev(s))))\n"
   ]
  },
  {
   "cell_type": "code",
   "execution_count": null,
   "metadata": {},
   "outputs": [],
   "source": []
  },
  {
   "cell_type": "code",
   "execution_count": null,
   "metadata": {},
   "outputs": [],
   "source": []
  }
 ],
 "metadata": {
  "kernelspec": {
   "display_name": "Python 3",
   "language": "python",
   "name": "python3"
  },
  "language_info": {
   "codemirror_mode": {
    "name": "ipython",
    "version": 3
   },
   "file_extension": ".py",
   "mimetype": "text/x-python",
   "name": "python",
   "nbconvert_exporter": "python",
   "pygments_lexer": "ipython3",
   "version": "3.7.3"
  }
 },
 "nbformat": 4,
 "nbformat_minor": 2
}
