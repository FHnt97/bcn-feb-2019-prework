{
 "cells": [
  {
   "cell_type": "markdown",
   "metadata": {},
   "source": [
    "# Robin Hood:\n",
    "We are in a competition to win the archery contest in Sherwood. With our bow and arrows we shoot on a target and try to hit as close as possible to the center.\n",
    "\n",
    "The center of the target is represented by the values (0, 0) on the coordinate axes.\n",
    "\n",
    "![](images/arrows.jpg)\n",
    "\n",
    "## Goals:\n",
    "* data structures: lists, sets, tuples\n",
    "* logical operators: if-elif-else\n",
    "* loop: while/for\n",
    "* minimum (optional sorting)\n",
    "\n",
    "## Description:\n",
    "In the 2-dimensional space, a point can be defined by a pair of values that correspond to the horizontal coordinate (x) and the vertical coordinate (y). The space can be divided into 4 zones (quadrants): Q1, Q2, Q3, Q4. Whose single point of union is the point (0, 0).\n",
    "\n",
    "If a point is in Q1 both its x coordinate and the y are positive. I leave a link to wikipedia to familiarize yourself with these quadrants.\n",
    "\n",
    "https://en.wikipedia.org/wiki/Cartesian_coordinate_system\n",
    "\n",
    "https://en.wikipedia.org/wiki/Euclidean_distance\n",
    "\n",
    "## Shots\n",
    "```\n",
    "points = [(4, 5), (-0, 2), (4, 7), (1, -3), (3, -2), (4, 5),\n",
    "          (3, 2), (5, 7), (-5, 7), (2, 2), (-4, 5), (0, -2),\n",
    "          (-4, 7), (-1, 3), (-3, 2), (-4, -5), (-3, 2),\n",
    "          (5, 7), (5, 7), (2, 2), (9, 9), (-8, -9)]\n",
    "```\n",
    "\n",
    "## Tasks\n",
    "1. Robin Hood is famous for hitting an arrow with another arrow. Did you get it?\n",
    "2. Calculate how many arrows have fallen in each quadrant.\n",
    "3. Find the point closest to the center. Calculate its distance to the center. \n",
    "4. If the target has a radius of 9, calculate the number of arrows that must be picked up in the forest."
   ]
  },
  {
   "cell_type": "code",
   "execution_count": 2,
   "metadata": {},
   "outputs": [],
   "source": [
    "# Variables - try making this a dictionary ! \n",
    "\n",
    "points = [(4, 5), (0, 2), (4, 7), (1, -3), (3, -2), (4, 5),\n",
    "          (3, 2), (5, 7), (-5, 7), (2, 2), (-4, 5), (0, -2),\n",
    "          (-4, 7), (-1, 3), (-3, 2), (-4, -5), (-3, 2),\n",
    "          (5, 7), (5, 7), (2, 2), (9, 9), (-8, -9)]\n",
    "\n",
    "\n",
    "\n"
   ]
  },
  {
   "cell_type": "code",
   "execution_count": 9,
   "metadata": {},
   "outputs": [
    {
     "name": "stdout",
     "output_type": "stream",
     "text": [
      "17\n",
      "You did it!\n"
     ]
    }
   ],
   "source": [
    "# 1. Robin Hood is famous for hitting an arrow with another arrow. Did you get it?\n",
    "no_dupes = set (points)\n",
    "print (len(no_dupes))\n",
    "if len(no_dupes) != len (points):\n",
    "    print (\"You did it!\")\n",
    "else:\n",
    "    print (\"You are no Robin Hood yet, keep trying!\")\n"
   ]
  },
  {
   "cell_type": "code",
   "execution_count": 11,
   "metadata": {},
   "outputs": [
    {
     "ename": "SyntaxError",
     "evalue": "invalid syntax (<ipython-input-11-7921caa47a1b>, line 16)",
     "output_type": "error",
     "traceback": [
      "\u001b[1;36m  File \u001b[1;32m\"<ipython-input-11-7921caa47a1b>\"\u001b[1;36m, line \u001b[1;32m16\u001b[0m\n\u001b[1;33m    elif x< and y<0:\u001b[0m\n\u001b[1;37m              ^\u001b[0m\n\u001b[1;31mSyntaxError\u001b[0m\u001b[1;31m:\u001b[0m invalid syntax\n"
     ]
    }
   ],
   "source": [
    "# 2. Calculate how many arrows have fallen in each quadrant.\n",
    "\n",
    "Q1 = []\n",
    "Q2 = []\n",
    "Q3 = []\n",
    "Q4 = []\n",
    "on_x = 0\n",
    "on_y = 0\n",
    "rows = []\n",
    "\n",
    "for x, y in points:\n",
    "    if x>0 and y>0:\n",
    "            Q1.append(row)\n",
    "    elif x>0 and y<0:\n",
    "            Q2.append(row)\n",
    "    elif x< and y<0:\n",
    "            Q3.append(row)\n",
    "    elif x<0 and y>0:\n",
    "            Q4.append(row)\n",
    "            \n",
    "            \n",
    "        \n",
    "print(Q1, Q2, Q3, Q4)           \n",
    "\n",
    "\n",
    "\n"
   ]
  },
  {
   "cell_type": "code",
   "execution_count": 12,
   "metadata": {},
   "outputs": [
    {
     "name": "stdout",
     "output_type": "stream",
     "text": [
      "The number of arrows to pick up is: 2.\n"
     ]
    }
   ],
   "source": [
    "# 4. If the target has a radius of 9, calculate the number of arrows that \n",
    "# must be picked up in the forest.\n",
    "\n",
    "# find the distances\n",
    "s = []\n",
    "for row in points:\n",
    "    squares = [x**2 for x in row] \n",
    "    s.append(squares)\n",
    "\n",
    "\n",
    "a = []\n",
    "for row in s:\n",
    "    added = [sum(row)]\n",
    "    a.append(added)\n",
    "\n",
    "\n",
    "hypo= []\n",
    "for row in a:\n",
    "    distance = [y**(1/2) for y in row]\n",
    "    hypo.append(distance)\n",
    "hypo.sort()\n",
    "\n",
    "    \n",
    "failed=[]\n",
    "for row in hypo:\n",
    "    for col in row:\n",
    "        failed.append (col)\n",
    "\n",
    "d_max = 9\n",
    "fail = 0\n",
    "\n",
    "for x in failed:\n",
    "    if x > d_max:\n",
    "        fail += 1\n",
    "print (\"The number of arrows to pick up is: %s.\" % (fail))\n",
    "        "
   ]
  },
  {
   "cell_type": "code",
   "execution_count": null,
   "metadata": {},
   "outputs": [],
   "source": []
  },
  {
   "cell_type": "code",
   "execution_count": null,
   "metadata": {},
   "outputs": [],
   "source": []
  },
  {
   "cell_type": "code",
   "execution_count": null,
   "metadata": {},
   "outputs": [],
   "source": []
  }
 ],
 "metadata": {
  "kernelspec": {
   "display_name": "Python 3",
   "language": "python",
   "name": "python3"
  },
  "language_info": {
   "codemirror_mode": {
    "name": "ipython",
    "version": 3
   },
   "file_extension": ".py",
   "mimetype": "text/x-python",
   "name": "python",
   "nbconvert_exporter": "python",
   "pygments_lexer": "ipython3",
   "version": "3.7.3"
  }
 },
 "nbformat": 4,
 "nbformat_minor": 2
}
