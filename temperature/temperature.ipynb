{
 "cells": [
  {
   "cell_type": "markdown",
   "metadata": {},
   "source": [
    "# Processor temperature\n",
    "\n",
    "We have a temperature sensor in the processor of our company's server. We want to analyze the data provided to determinate whether we should change the cooling system for a better one. It is expensive and as a data analyst we cannot make decisions without a basis.\n",
    "\n",
    "We provide the temperatures measured throughout the 24 hours of a day in a list-type data structure composed of 24 integers:\n",
    "```\n",
    "temperatures_C = [33,66,65,0,59,60,62,64,70,76,80,69,80,83,68,79,61,53,50,49,53,48,45,39]\n",
    "```\n",
    "\n",
    "## Goals\n",
    "\n",
    "1. Treatment of lists\n",
    "2. Use of loop or list comprenhention\n",
    "3. Calculation of the mean, minimum and maximum.\n",
    "4. Filtering of lists.\n",
    "5. Interpolate an outlier.\n",
    "6. Logical operators.\n",
    "7. Print"
   ]
  },
  {
   "cell_type": "markdown",
   "metadata": {},
   "source": [
    "## Temperature graph\n",
    "To facilitate understanding, the temperature graph is shown below. You do not have to do anything in this section. The test starts in **Problem**."
   ]
  },
  {
   "cell_type": "code",
   "execution_count": null,
   "metadata": {},
   "outputs": [],
   "source": [
    "# import\n",
    "import matplotlib.pyplot as plt\n",
    "%matplotlib inline\n",
    "\n",
    "# axis x, axis y\n",
    "y = [33,66,65,0,59,60,62,64,70,76,80,81,80,83,90,79,61,53,50,49,53,48,45,39]\n",
    "x = list(range(len(y)))\n",
    "\n",
    "# plot\n",
    "plt.plot(x, y)\n",
    "plt.axhline(y=70, linewidth=1, color='r')\n",
    "plt.xlabel('hours')\n",
    "plt.ylabel('Temperature ºC')\n",
    "plt.title('Temperatures of our server throughout the day')"
   ]
  },
  {
   "cell_type": "markdown",
   "metadata": {},
   "source": [
    "## Problem\n",
    "\n",
    "If the sensor detects more than 4 hours with temperatures greater than or equal to 70ºC or any temperature above 80ºC or the average exceeds 65ºC throughout the day, we must give the order to change the cooling system to avoid damaging the processor.\n",
    "\n",
    "We will guide you step by step so you can make the decision by calculating some intermediate steps:\n",
    "\n",
    "1. Minimum temperature\n",
    "2. Maximum temperature\n",
    "3. Temperatures equal to or greater than 70ºC\n",
    "4. Average temperatures throughout the day.\n",
    "5. If there was a sensor failure at 03:00 and we did not capture the data, how would you estimate the value that we lack? Correct that value in the list of temperatures.\n",
    "6. Bonus: Our maintenance staff is from the United States and does not understand the international metric system. Pass temperatures to Degrees Fahrenheit.\n",
    "\n",
    "Formula: F = 1.8 * C + 32\n",
    "\n",
    "web: https://en.wikipedia.org/wiki/Conversion_of_units_of_temperature\n"
   ]
  },
  {
   "cell_type": "code",
   "execution_count": null,
   "metadata": {},
   "outputs": [],
   "source": [
    "# assign a variable to the list of temperatures\n",
    "C = [33,66,65,0,59,60,62,64,70,76,80,81,80,83,90,79,61,53,50,49,53,48,45,39]\n",
    "x = list(range(len(C)))\n",
    "h = 24\n",
    "over70 = []\n",
    "\n",
    "# 1. Calculate the minimum of the list and print the value using print()\n",
    "print(\"The min. temperature is; %s ºC\" % (min(C)))\n",
    "\n",
    "# 2. Calculate the maximum of the list and print the value using print()\n",
    "print(\"The max. temperature is; %s ºC\" % (max(C)))\n",
    "\n",
    "# 3. Items in the list that are greater than 70ºC and print the result\n",
    "for t in C:\n",
    "    if t > 70:\n",
    "        over70.append(t)\n",
    "print (\"Following items are over 70ºC: %s\" % (over70))\n",
    "\n",
    "# 4. Calculate the mean temperature throughout the day and print the result\n",
    "from statistics import mean \n",
    "avg = sum(C)/h\n",
    "print (\"The mean temp. through the day is: %s ºC\" %(mean(C)))\n",
    "\n",
    "# 5.1 Solve the fault in the sensor by estimating a value !!unsure if more complex calculation is needed!!\n",
    "estimate = (C[2]+C[4])/2\n",
    "\n",
    "\n",
    "# 5.2 Update of the estimated value at 03:00 on the list\n",
    "for x in C:\n",
    "    if x == 0:\n",
    "        print (\"Probable sensor failture at measurement\", C.index(x)+1, \"!\")\n",
    "        C.remove(x)\n",
    "        C.append(estimate)\n",
    "        print (\"Estimated value for reading= %s ºC\" % (estimate))\n",
    "\n",
    "\n",
    "# Bonus: convert the list of ºC to ºFarenheit\n",
    "tempf= []\n",
    "for x in C:\n",
    "    F = 1.8 * x + 32\n",
    "    tempf.append(int(F))\n",
    "print (\"The temp. list in Farenheit goes as follows:\", tempf)\n",
    "\n",
    "    \n"
   ]
  },
  {
   "cell_type": "markdown",
   "metadata": {},
   "source": [
    "## Take the decision\n",
    "Remember that if the sensor detects more than 4 hours with temperatures greater than or equal to 70ºC or any temperature higher than 80ºC or the average was higher than 65ºC throughout the day, we must give the order to change the cooling system to avoid the danger of damaging the equipment:\n",
    "* more than 4 hours with temperatures greater than or equal to 70ºC\n",
    "* some temperature higher than 80ºC\n",
    "* average was higher than 65ºC throughout the day\n",
    "If any of these three is met, the cooling system must be changed.\n"
   ]
  },
  {
   "cell_type": "code",
   "execution_count": null,
   "metadata": {},
   "outputs": [],
   "source": [
    "# Print True or False depending on whether you would change the cooling system or not\n",
    "C = [33,66,65,0,59,60,62,64,70,76,80,81,80,83,90,79,61,53,50,49,53,48,45,39]\n",
    "o70 = 0\n",
    "for x in C:\n",
    "    if x >= 70:\n",
    "        o70 +=1 \n",
    "o80 = 0\n",
    "for x in C:\n",
    "    if x >= 80:\n",
    "        o80 +=1\n",
    "\n",
    "if o70 > 4 or o80 > 0 or mean(C)>65:\n",
    "    print(True)\n",
    "    print (\"It would be wise to change the cooling system\")\n",
    "else:\n",
    "    print(False)\n",
    "    print (\"A change in the system is not needed\")\n",
    "  "
   ]
  },
  {
   "cell_type": "markdown",
   "metadata": {},
   "source": [
    "## Future improvements\n",
    "1. We want the hours (not the temperatures) whose temperature exceeds 70ºC\n",
    "2. Condition that those hours are more than 4 consecutive and consecutive, not simply the sum of the whole set. Is this condition met?\n",
    "3. Average of each of the lists (ºC and ºF). How they relate?\n",
    "4. Standard deviation of each of the lists. How they relate?\n"
   ]
  },
  {
   "cell_type": "code",
   "execution_count": null,
   "metadata": {},
   "outputs": [],
   "source": [
    "# 1. We want the hours (not the temperatures) whose temperature exceeds 70ºC\n",
    "Times = []\n",
    "for x in C:\n",
    "    if x > 70:\n",
    "        Times.append(C.index(x))\n",
    "print (\"At following hours the temp exceeded 70ºC: %s\" % (Times))\n",
    "\n"
   ]
  },
  {
   "cell_type": "code",
   "execution_count": null,
   "metadata": {},
   "outputs": [],
   "source": [
    "# 2. Condition that those hours are more than 4 consecutive and consecutive, not simply the sum of the whole set. Is this condition met?\n",
    "temp70= 0\n",
    "maxt = 70\n",
    "i = 0\n",
    "maxi = len(C)\n",
    "while i< maxi:\n",
    "    if C[i] >= maxt:\n",
    "        temp70 +=1\n",
    "        i +=1\n",
    "    else:\n",
    "        temp70 -=1\n",
    "        i +=1\n",
    "print (temp70)\n",
    "if temp70 >= 4:\n",
    "    print (\"4 consecutive hours over 70.\")\n",
    "\n"
   ]
  },
  {
   "cell_type": "code",
   "execution_count": null,
   "metadata": {},
   "outputs": [],
   "source": [
    "# 3. Average of each of the lists (ºC and ºF). How they relate? in how far do we need to describe the relationship? \n",
    "print(int(mean(C)))\n",
    "print(int(mean(tempf)))\n",
    "# F is 1.8 times and +32 points bigger than C "
   ]
  },
  {
   "cell_type": "code",
   "execution_count": null,
   "metadata": {},
   "outputs": [],
   "source": [
    "# 4. Standard deviation of each of the lists. How they relate?\n",
    "from statistics import stdev\n",
    "print(int(stdev(C)))\n",
    "print(int(stdev(tempf)))\n",
    "# F is a factor of 1.8 times bigger than C, \n"
   ]
  },
  {
   "cell_type": "code",
   "execution_count": null,
   "metadata": {},
   "outputs": [],
   "source": []
  },
  {
   "cell_type": "code",
   "execution_count": null,
   "metadata": {},
   "outputs": [],
   "source": []
  }
 ],
 "metadata": {
  "kernelspec": {
   "display_name": "Python 3",
   "language": "python",
   "name": "python3"
  },
  "language_info": {
   "codemirror_mode": {
    "name": "ipython",
    "version": 3
   },
   "file_extension": ".py",
   "mimetype": "text/x-python",
   "name": "python",
   "nbconvert_exporter": "python",
   "pygments_lexer": "ipython3",
   "version": "3.7.3"
  }
 },
 "nbformat": 4,
 "nbformat_minor": 2
}
