{
 "cells": [
  {
   "cell_type": "markdown",
   "metadata": {},
   "source": [
    "# Bus\n",
    "\n",
    "This bus has a passenger entry and exit control system to monitor the number of occupants it carries and thus detect when there is too high a capacity.\n",
    "\n",
    "At each stop the entry and exit of passengers is represented by a tuple consisting of two integer numbers.\n",
    "```\n",
    "bus_stop = (in, out)\n",
    "```\n",
    "The succession of stops is represented by a list of these tuples.\n",
    "```\n",
    "stops = [(in1, out1), (in2, out2), (in3, out3), (in4, out4)]\n",
    "```\n",
    "\n",
    "## Goals:\n",
    "* lists, tuples\n",
    "* while/for loops\n",
    "* minimum, maximum, length\n",
    "* average, standard deviation\n",
    "\n",
    "## Tasks\n",
    "1. Calculate the number of stops.\n",
    "2. Assign to a variable a list whose elements are the number of passengers at each stop (in-out),\n",
    "3. Find the maximum occupation of the bus.\n",
    "4. Calculate the average occupation. And the standard deviation.\n"
   ]
  },
  {
   "cell_type": "code",
   "execution_count": 91,
   "metadata": {},
   "outputs": [
    {
     "name": "stdout",
     "output_type": "stream",
     "text": [
      "[[6, 0], [5, 6], [15, 11], [0, 9]]\n"
     ]
    }
   ],
   "source": [
    "# variables\n",
    "# assumtions: \n",
    "    # max. expected number of passanges coming in in one stop = 25\n",
    "    # 0 passangers leave the bus at the 1st stop\n",
    "    # 0 passanges enter the bus at the last stop\n",
    "    # all passangers leave the bus at the last stop\n",
    "    \n",
    "import random\n",
    "\n",
    "in1 = random.randint (0,26)\n",
    "out1 = 0\n",
    "in2 = random.randint (0,26)\n",
    "out2 = random.randint (0,(in1+1))\n",
    "in3 = random.randint (0,26)\n",
    "out3 = random.randint (0,(in1+in2+1))\n",
    "in4 = 0\n",
    "out4 = in1 + in2 - out2 + in3 - out3\n",
    "\n",
    "stops =  [[in1, out1], [in2, out2], [in3, out3], [in4, out4]]\n",
    "\n",
    "a, b, c, d = stops\n",
    "\n",
    "\n",
    "print (stops)"
   ]
  },
  {
   "cell_type": "code",
   "execution_count": 92,
   "metadata": {},
   "outputs": [
    {
     "name": "stdout",
     "output_type": "stream",
     "text": [
      "Number of stops = 4.\n"
     ]
    }
   ],
   "source": [
    "# 1. Calculate the number of stops.\n",
    "print(\"Number of stops = %s.\" % (len(stops)))\n"
   ]
  },
  {
   "cell_type": "code",
   "execution_count": 94,
   "metadata": {},
   "outputs": [
    {
     "name": "stdout",
     "output_type": "stream",
     "text": [
      "The number of people on the bus after each stop are: [6, 5, 9, 0]\n"
     ]
    }
   ],
   "source": [
    "# 2. Assign a variable a list whose elements are the number of passengers in each stop: \n",
    "# Each item depends on the previous item in the list + in - out.\n",
    "start = 0 \n",
    "occupation = []\n",
    "\n",
    "for row in stops:\n",
    "    start = start + row [0] - row[1]\n",
    "    occupation.append (start)\n",
    "   \n",
    "      \n",
    "print (\"The number of people on the bus after each stop are:\", occupation)\n",
    "    \n"
   ]
  },
  {
   "cell_type": "code",
   "execution_count": 95,
   "metadata": {},
   "outputs": [
    {
     "name": "stdout",
     "output_type": "stream",
     "text": [
      "The maximum occupation of the bus is: 9.\n"
     ]
    }
   ],
   "source": [
    "# 3. Find the maximum occupation of the bus.\n",
    "print (\"The maximum occupation of the bus is: % s.\" % (max(occupation)))\n",
    "\n"
   ]
  },
  {
   "cell_type": "code",
   "execution_count": 96,
   "metadata": {},
   "outputs": [
    {
     "name": "stdout",
     "output_type": "stream",
     "text": [
      "Standard Deviation is 3.\n"
     ]
    }
   ],
   "source": [
    "# 4. Calculate the average occupation. And the standard deviation.\n",
    "\n",
    "import statistics\n",
    "print(\"Standard Deviation is % s.\" \n",
    "                % (int(statistics.stdev(occupation))))\n"
   ]
  },
  {
   "cell_type": "code",
   "execution_count": null,
   "metadata": {},
   "outputs": [],
   "source": []
  }
 ],
 "metadata": {
  "kernelspec": {
   "display_name": "Python 3",
   "language": "python",
   "name": "python3"
  },
  "language_info": {
   "codemirror_mode": {
    "name": "ipython",
    "version": 3
   },
   "file_extension": ".py",
   "mimetype": "text/x-python",
   "name": "python",
   "nbconvert_exporter": "python",
   "pygments_lexer": "ipython3",
   "version": "3.7.3"
  }
 },
 "nbformat": 4,
 "nbformat_minor": 2
}
